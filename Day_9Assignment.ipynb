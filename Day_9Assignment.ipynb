{
  "nbformat": 4,
  "nbformat_minor": 0,
  "metadata": {
    "colab": {
      "name": "Day-9Assignment.ipynb",
      "provenance": [],
      "collapsed_sections": [],
      "authorship_tag": "ABX9TyMkwBM+GZe/5p1NcNlxIPV2",
      "include_colab_link": true
    },
    "kernelspec": {
      "name": "python3",
      "display_name": "Python 3"
    }
  },
  "cells": [
    {
      "cell_type": "markdown",
      "metadata": {
        "id": "view-in-github",
        "colab_type": "text"
      },
      "source": [
        "<a href=\"https://colab.research.google.com/github/Manikandan48/Let-s-upgrade-Python/blob/master/Day_9Assignment.ipynb\" target=\"_parent\"><img src=\"https://colab.research.google.com/assets/colab-badge.svg\" alt=\"Open In Colab\"/></a>"
      ]
    },
    {
      "cell_type": "code",
      "metadata": {
        "id": "7mrCyeKwRLAT",
        "colab_type": "code",
        "colab": {
          "base_uri": "https://localhost:8080/",
          "height": 411
        },
        "outputId": "9186f599-3065-4046-d5de-0e85f0c40d54"
      },
      "source": [
        "pip install pylint"
      ],
      "execution_count": null,
      "outputs": [
        {
          "output_type": "stream",
          "text": [
            "Collecting pylint\n",
            "\u001b[?25l  Downloading https://files.pythonhosted.org/packages/fb/13/519c1264a134beab2be4bac8dd3e64948980a5ca7833b31cf0255b21f20a/pylint-2.6.0-py3-none-any.whl (325kB)\n",
            "\u001b[K     |████████████████████████████████| 327kB 2.7MB/s \n",
            "\u001b[?25hCollecting astroid<=2.5,>=2.4.0\n",
            "\u001b[?25l  Downloading https://files.pythonhosted.org/packages/24/a8/5133f51967fb21e46ee50831c3f5dda49e976b7f915408d670b1603d41d6/astroid-2.4.2-py3-none-any.whl (213kB)\n",
            "\u001b[K     |████████████████████████████████| 215kB 8.6MB/s \n",
            "\u001b[?25hCollecting mccabe<0.7,>=0.6\n",
            "  Downloading https://files.pythonhosted.org/packages/87/89/479dc97e18549e21354893e4ee4ef36db1d237534982482c3681ee6e7b57/mccabe-0.6.1-py2.py3-none-any.whl\n",
            "Requirement already satisfied: toml>=0.7.1 in /usr/local/lib/python3.6/dist-packages (from pylint) (0.10.1)\n",
            "Collecting isort<6,>=4.2.5\n",
            "\u001b[?25l  Downloading https://files.pythonhosted.org/packages/d1/25/7ed95ccb07d3ce52598f5a57d002da6a18074ea8749991b10936cc20e539/isort-5.5.2-py3-none-any.whl (95kB)\n",
            "\u001b[K     |████████████████████████████████| 102kB 6.5MB/s \n",
            "\u001b[?25hRequirement already satisfied: wrapt~=1.11 in /usr/local/lib/python3.6/dist-packages (from astroid<=2.5,>=2.4.0->pylint) (1.12.1)\n",
            "Collecting lazy-object-proxy==1.4.*\n",
            "\u001b[?25l  Downloading https://files.pythonhosted.org/packages/0b/dd/b1e3407e9e6913cf178e506cd0dee818e58694d9a5cd1984e3f6a8b9a10f/lazy_object_proxy-1.4.3-cp36-cp36m-manylinux1_x86_64.whl (55kB)\n",
            "\u001b[K     |████████████████████████████████| 61kB 5.7MB/s \n",
            "\u001b[?25hRequirement already satisfied: six~=1.12 in /usr/local/lib/python3.6/dist-packages (from astroid<=2.5,>=2.4.0->pylint) (1.15.0)\n",
            "Collecting typed-ast<1.5,>=1.4.0; implementation_name == \"cpython\" and python_version < \"3.8\"\n",
            "\u001b[?25l  Downloading https://files.pythonhosted.org/packages/90/ed/5459080d95eb87a02fe860d447197be63b6e2b5e9ff73c2b0a85622994f4/typed_ast-1.4.1-cp36-cp36m-manylinux1_x86_64.whl (737kB)\n",
            "\u001b[K     |████████████████████████████████| 747kB 9.0MB/s \n",
            "\u001b[?25hInstalling collected packages: lazy-object-proxy, typed-ast, astroid, mccabe, isort, pylint\n",
            "Successfully installed astroid-2.4.2 isort-5.5.2 lazy-object-proxy-1.4.3 mccabe-0.6.1 pylint-2.6.0 typed-ast-1.4.1\n"
          ],
          "name": "stdout"
        }
      ]
    },
    {
      "cell_type": "code",
      "metadata": {
        "id": "82KK5AfnSyOU",
        "colab_type": "code",
        "colab": {}
      },
      "source": [
        "1.Unit testing"
      ],
      "execution_count": null,
      "outputs": []
    },
    {
      "cell_type": "code",
      "metadata": {
        "id": "PVa6QGJDSkHn",
        "colab_type": "code",
        "colab": {
          "base_uri": "https://localhost:8080/",
          "height": 34
        },
        "outputId": "5c039eec-499b-4786-d746-2edc672ac9cc"
      },
      "source": [
        "%%writefile primenum.py\n",
        "def prime(n):\n",
        "    if n==1:\n",
        "        return False\n",
        "    elif n==2:\n",
        "        return True\n",
        "    else:\n",
        "        for i in range(2,n):\n",
        "            if n % i==0:\n",
        "                return False\n",
        "        return True             \n",
        "A=87\n",
        "prime(A)"
      ],
      "execution_count": null,
      "outputs": [
        {
          "output_type": "stream",
          "text": [
            "Overwriting primenum.py\n"
          ],
          "name": "stdout"
        }
      ]
    },
    {
      "cell_type": "code",
      "metadata": {
        "id": "PrAgfNCwT8gc",
        "colab_type": "code",
        "colab": {
          "base_uri": "https://localhost:8080/",
          "height": 204
        },
        "outputId": "c69d19c7-a8a8-4d99-b55e-8227b1f3b1e3"
      },
      "source": [
        "!pylint \"primenum.py\""
      ],
      "execution_count": null,
      "outputs": [
        {
          "output_type": "stream",
          "text": [
            "************* Module primenum\n",
            "primenum.py:10:19: C0303: Trailing whitespace (trailing-whitespace)\n",
            "primenum.py:12:0: C0304: Final newline missing (missing-final-newline)\n",
            "primenum.py:1:0: C0114: Missing module docstring (missing-module-docstring)\n",
            "primenum.py:1:0: C0103: Argument name \"n\" doesn't conform to snake_case naming style (invalid-name)\n",
            "primenum.py:1:0: C0116: Missing function or method docstring (missing-function-docstring)\n",
            "primenum.py:2:4: R1705: Unnecessary \"elif\" after \"return\" (no-else-return)\n",
            "\n",
            "------------------------------------------------------------------\n",
            "Your code has been rated at 4.55/10 (previous run: 0.00/10, +4.55)\n",
            "\n"
          ],
          "name": "stdout"
        }
      ]
    },
    {
      "cell_type": "markdown",
      "metadata": {
        "id": "EKMHuON0XFYH",
        "colab_type": "text"
      },
      "source": [
        "2.Armstrong"
      ]
    },
    {
      "cell_type": "code",
      "metadata": {
        "id": "7XJPQEDcXFqA",
        "colab_type": "code",
        "colab": {
          "base_uri": "https://localhost:8080/",
          "height": 119
        },
        "outputId": "3c61266f-ff33-4eea-835f-f7dfa4c2ad90"
      },
      "source": [
        "start=input()\n",
        "if start=='x':\n",
        "  exit()\n",
        "else:\n",
        "  stop=input()\n",
        "  l=int(start)\n",
        "  u=int(stop) \n",
        "  for i in range(l,u+1):\n",
        "     sum1=0\n",
        "     num=i\n",
        "     while num!=0:\n",
        "       dig=num%10\n",
        "       sum1+=dig**3\n",
        "       num//=10\n",
        "     if i==sum1:\n",
        "       print(i)  \n",
        "\n"
      ],
      "execution_count": 3,
      "outputs": [
        {
          "output_type": "stream",
          "text": [
            "100\n",
            "1000\n",
            "153\n",
            "370\n",
            "371\n",
            "407\n"
          ],
          "name": "stdout"
        }
      ]
    }
  ]
}
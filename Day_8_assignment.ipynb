{
  "nbformat": 4,
  "nbformat_minor": 0,
  "metadata": {
    "colab": {
      "name": "Day_8",
      "provenance": [],
      "authorship_tag": "ABX9TyPn2gcB7EpFu5+obydqcKnc",
      "include_colab_link": true
    },
    "kernelspec": {
      "name": "python3",
      "display_name": "Python 3"
    }
  },
  "cells": [
    {
      "cell_type": "markdown",
      "metadata": {
        "id": "view-in-github",
        "colab_type": "text"
      },
      "source": [
        "<a href=\"https://colab.research.google.com/github/Manikandan48/Let-s-upgrade-Python/blob/master/Day_8_assignment.ipynb\" target=\"_parent\"><img src=\"https://colab.research.google.com/assets/colab-badge.svg\" alt=\"Open In Colab\"/></a>"
      ]
    },
    {
      "cell_type": "markdown",
      "metadata": {
        "id": "J338mIp7Fean",
        "colab_type": "text"
      },
      "source": [
        "1.Exception"
      ]
    },
    {
      "cell_type": "code",
      "metadata": {
        "id": "1qGFiDudLdBP",
        "colab_type": "code",
        "colab": {}
      },
      "source": [
        "f=open (\"myfile.txt\",\"w\")\n",
        "f.write(\"Hello all this is me\")\n",
        "f.close()"
      ],
      "execution_count": 11,
      "outputs": []
    },
    {
      "cell_type": "code",
      "metadata": {
        "id": "DZyYIhnFFavp",
        "colab_type": "code",
        "colab": {
          "base_uri": "https://localhost:8080/",
          "height": 51
        },
        "outputId": "e9e186b4-7059-48b9-9fc3-cae4ddecdf81"
      },
      "source": [
        "try :\n",
        "    file = open(\"myfile.txt\",\"r\")\n",
        "    file.write(\"Hello\")\n",
        "    file.close()\n",
        "    print(\"pass\")\n",
        "except Exception as m:\n",
        "    print(m)\n",
        "finally:\n",
        "    print(\"whatever is it i can execute\")"
      ],
      "execution_count": 13,
      "outputs": [
        {
          "output_type": "stream",
          "text": [
            "not writable\n",
            "whatever is it i can execute\n"
          ],
          "name": "stdout"
        }
      ]
    },
    {
      "cell_type": "markdown",
      "metadata": {
        "id": "wdTDQo6qmtaB",
        "colab_type": "text"
      },
      "source": [
        "2.Fibonacci"
      ]
    },
    {
      "cell_type": "code",
      "metadata": {
        "id": "Zc3RoVqVmve9",
        "colab_type": "code",
        "colab": {}
      },
      "source": [
        "def fibDeco(man):\n",
        "    def myFun():\n",
        "        num = int(input(\"Enter any Number - \"))\n",
        "        man(num)\n",
        "    return myFun"
      ],
      "execution_count": 19,
      "outputs": []
    },
    {
      "cell_type": "code",
      "metadata": {
        "id": "fG51ERz8nO17",
        "colab_type": "code",
        "colab": {}
      },
      "source": [
        "@fibDeco\n",
        "def fib(n):\n",
        "    old_num = 0\n",
        "    a = 1\n",
        "    print('1')\n",
        "    for i in range(0,n):\n",
        "        new_num = a+old_num\n",
        "        old_num = a\n",
        "        a = new_num\n",
        "        print(new_num)"
      ],
      "execution_count": 18,
      "outputs": []
    },
    {
      "cell_type": "code",
      "metadata": {
        "id": "5rltZGhQoCJU",
        "colab_type": "code",
        "colab": {
          "base_uri": "https://localhost:8080/",
          "height": 153
        },
        "outputId": "40bdfccf-fe0c-468a-fdc7-9ded2695e0f8"
      },
      "source": [
        "fib()"
      ],
      "execution_count": 21,
      "outputs": [
        {
          "output_type": "stream",
          "text": [
            "Enter any Number - 6\n",
            "1\n",
            "1\n",
            "2\n",
            "3\n",
            "5\n",
            "8\n",
            "13\n"
          ],
          "name": "stdout"
        }
      ]
    }
  ]
}
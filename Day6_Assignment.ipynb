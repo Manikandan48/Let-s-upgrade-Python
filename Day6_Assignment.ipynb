{
  "nbformat": 4,
  "nbformat_minor": 0,
  "metadata": {
    "colab": {
      "name": "Day6_Assignment",
      "provenance": [],
      "collapsed_sections": [],
      "authorship_tag": "ABX9TyNmhqQZ+8/dee5gHftiwKs9",
      "include_colab_link": true
    },
    "kernelspec": {
      "name": "python3",
      "display_name": "Python 3"
    }
  },
  "cells": [
    {
      "cell_type": "markdown",
      "metadata": {
        "id": "view-in-github",
        "colab_type": "text"
      },
      "source": [
        "<a href=\"https://colab.research.google.com/github/Manikandan48/Let-s-upgrade-Python/blob/master/Day6_Assignment.ipynb\" target=\"_parent\"><img src=\"https://colab.research.google.com/assets/colab-badge.svg\" alt=\"Open In Colab\"/></a>"
      ]
    },
    {
      "cell_type": "markdown",
      "metadata": {
        "id": "P6tYovPZ-qfX",
        "colab_type": "text"
      },
      "source": [
        "1.Bank account class"
      ]
    },
    {
      "cell_type": "code",
      "metadata": {
        "id": "pLgHneoNDOaR",
        "colab_type": "code",
        "colab": {
          "base_uri": "https://localhost:8080/",
          "height": 170
        },
        "outputId": "d1092c68-85a7-4750-daad-b7e5160d74ff"
      },
      "source": [
        "class BankAcc: \n",
        "    def __init__(self): \n",
        "        self.balance=0\n",
        "        print(\"Hello!!! Welcome to Onepress Banking\") \n",
        "    def depo(self): \n",
        "        amount=float(input(\"Enter amount to be Deposited: \")) \n",
        "        self.balance += amount \n",
        "        print(\"\\n Amount Deposited:\",amount) \n",
        "    def withdraw(self): \n",
        "        amount = float(input(\"Enter amount to be Withdrawn: \")) \n",
        "        if self.balance>=amount: \n",
        "            self.balance-=amount \n",
        "            print(\"\\n You Withdrew:\", amount) \n",
        "        else: \n",
        "            print(\"\\n Insufficient balance  \") \n",
        "    def display(self): \n",
        "        print(\"\\n Available Balance=\",self.balance) \n",
        "s = BankAcc()  \n",
        "s.depo() \n",
        "s.withdraw() \n",
        "s.display() "
      ],
      "execution_count": 42,
      "outputs": [
        {
          "output_type": "stream",
          "text": [
            "Hello!!! Welcome to Onepress Banking\n",
            "Enter amount to be Deposited: 10000\n",
            "\n",
            " Amount Deposited: 10000.0\n",
            "Enter amount to be Withdrawn: 3000\n",
            "\n",
            " You Withdrew: 3000.0\n",
            "\n",
            " Available Balance= 7000.0\n"
          ],
          "name": "stdout"
        }
      ]
    },
    {
      "cell_type": "markdown",
      "metadata": {
        "id": "FgAGi5QTEYU0",
        "colab_type": "text"
      },
      "source": [
        "2.Cone"
      ]
    },
    {
      "cell_type": "code",
      "metadata": {
        "id": "3DfQE980EbxO",
        "colab_type": "code",
        "colab": {
          "base_uri": "https://localhost:8080/",
          "height": 85
        },
        "outputId": "3d0a96f6-9641-4ab9-e409-2db2d719a487"
      },
      "source": [
        "import math\n",
        "from math import pi\n",
        "class cone:\n",
        "  def _init_(self,r,h,s):\n",
        "    self.r=radius\n",
        "    self.h=height\n",
        "    self.s=slantheught\n",
        "#volume of cone  \n",
        "  def volume(r, h): \n",
        "    v=(1/3) * (pi * r * r * h)\n",
        "    return v   \n",
        "# Surface Area of Cone \n",
        "  def surfacearea(r, s): \n",
        "    a=(pi * r * s) + (pi * r * r )\n",
        "    return a\n",
        "r=float(5)\n",
        "h=float(21)\n",
        "s=float(31)\n",
        "print(\"\\n \",round(volume(r,h),2))\n",
        "print(\"\\n\",round(surfacearea(r,s),2))        "
      ],
      "execution_count": 54,
      "outputs": [
        {
          "output_type": "stream",
          "text": [
            "\n",
            "  549.78\n",
            "\n",
            " 565.49\n"
          ],
          "name": "stdout"
        }
      ]
    }
  ]
}